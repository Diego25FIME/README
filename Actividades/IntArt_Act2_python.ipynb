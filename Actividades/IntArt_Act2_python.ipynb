{
  "nbformat": 4,
  "nbformat_minor": 0,
  "metadata": {
    "colab": {
      "provenance": []
    },
    "kernelspec": {
      "name": "python3",
      "display_name": "Python 3"
    },
    "language_info": {
      "name": "python"
    }
  },
  "cells": [
    {
      "cell_type": "markdown",
      "source": [
        "Actividad 2: Diseño de algoritmos en Python\n",
        "\n",
        "Nombre: Diego Eduardo Ortega Estrella\n",
        "Matricula: 1994855\n",
        "Carrera: IMTC\n",
        "Hora: N4\n"
      ],
      "metadata": {
        "id": "6qrVgUOrdee9"
      }
    },
    {
      "cell_type": "code",
      "execution_count": 8,
      "metadata": {
        "colab": {
          "base_uri": "https://localhost:8080/"
        },
        "id": "_LufzhjUOTif",
        "outputId": "67f58334-fc14-4466-c32c-959f8e37fe1d"
      },
      "outputs": [
        {
          "output_type": "stream",
          "name": "stdout",
          "text": [
            "Ingrese su nombre: Ana\n",
            "Mala suerte no puedo saludar a Ana, Juan o Pedro.\n"
          ]
        }
      ],
      "source": [
        "# Diego Eduardo Ortega Estrella 1994855 IMTC\n",
        "# Primer programa\n",
        "\n",
        "# Pedir el nombre del usuario\n",
        "nom = input(\"Ingrese su nombre: \")\n",
        "\n",
        "# Checar si el nombre ingresado está en la lista de nombres proibidos\n",
        "if nom.lower() in [\"ana\", \"juan\", \"pedro\"]:\n",
        "    print(\"Mala suerte no puedo saludar a Ana, Juan o Pedro.\")\n",
        "else:\n",
        "    # Saludar al usuario con su nombre\n",
        "    print(\"¡Hola,\", nom, \"! Bienvenido.\")"
      ]
    },
    {
      "cell_type": "markdown",
      "source": [],
      "metadata": {
        "id": "4_Cy0wxkdJe9"
      }
    },
    {
      "cell_type": "code",
      "source": [
        "\n",
        "# Segundo programa\n",
        "\n",
        "def list_alreves():\n",
        "# Pedir un # n de elementos de la lista\n",
        "    n = int(input(\"Ingresa la cantidad de # elementos de tu lista: \"))\n",
        "\n",
        "# Pedir los n elementos de la lista\n",
        "    lista = []\n",
        "    for i in range(n):\n",
        "        elemento = input(\"Ingresa el elemento {}: \".format(i + 1))\n",
        "        lista.append(elemento)\n",
        "\n",
        "# Invertirte el orden de la lista\n",
        "    list_alreves = lista[::-1]\n",
        "\n",
        "# Mostra la lista invertida hecha por el programa\n",
        "    print(\"Lista invertida:\", list_alreves)\n",
        "\n",
        "# Llamar a la función para invertir la lista\n",
        "list_alreves()"
      ],
      "metadata": {
        "colab": {
          "base_uri": "https://localhost:8080/"
        },
        "id": "9sLfZf0xP9vy",
        "outputId": "d6a899a6-1f38-41d3-a935-32fb363e0106"
      },
      "execution_count": 9,
      "outputs": [
        {
          "output_type": "stream",
          "name": "stdout",
          "text": [
            "Ingresa la cantidad de n elementos de tu lista: 2\n",
            "Ingresa el elemento 1: taco\n",
            "Ingresa el elemento 2: salsa\n",
            "Lista invertida: ['salsa', 'taco']\n"
          ]
        }
      ]
    },
    {
      "cell_type": "code",
      "source": [
        "# Tercer programa\n",
        "\n",
        "def FIB(n):\n",
        "# Inicia la lista con los dos primeros #s de Fibonacci\n",
        "    FIB = [0, 1]\n",
        "\n",
        "# Generar los siguientes #s de Fibonacci\n",
        "    for i in range(2, n):\n",
        "        FIB.append(FIB[-1] + FIB[-2])\n",
        "\n",
        "    return FIB\n",
        "\n",
        "# Pedir cuántos #s de la serie de Fibonacci se quieren generar\n",
        "cant_n = int(input(\"Poner la cantidad de # de la serie de Fibonacci que desea generar: \"))\n",
        "\n",
        "# Genera la serie de Fibonacci\n",
        "serie_FIB = FIB(cant_n)\n",
        "\n",
        "# Imprime la serie de Fibonacci\n",
        "print(\"Serie de Fibonacci\", cant_n, \"#s generados:\")\n",
        "print(serie_FIB)"
      ],
      "metadata": {
        "colab": {
          "base_uri": "https://localhost:8080/"
        },
        "id": "PpzX7wRwRwfV",
        "outputId": "4d1c7fd3-79b5-432d-9950-e739efe2dab2"
      },
      "execution_count": 10,
      "outputs": [
        {
          "output_type": "stream",
          "name": "stdout",
          "text": [
            "Poner la cantidad de # de la serie de Fibonacci que desea generar: 2\n",
            "Serie de Fibonacci 2 #s generados:\n",
            "[0, 1]\n"
          ]
        }
      ]
    },
    {
      "cell_type": "code",
      "source": [
        "# Cuarto programa\n",
        "\n",
        "import random\n",
        "\n",
        "def adi_n():\n",
        "  # Genera un # aleatorio entre 1 y 100\n",
        "    n_obj = random.randint(1, 100)\n",
        "\n",
        "  # Mensaje de inicio\n",
        "    print(\"Saludos, este es el juego de adivinar el #\")\n",
        "\n",
        "  # Contador de intentos\n",
        "    inte = 0\n",
        "\n",
        "  # Solicitar al usuario que adivine el #\n",
        "    while True:\n",
        "        inte = int(input(\"Intenta adivinar un # (entre 1 y 100): \"))\n",
        "        inte += 1\n",
        "\n",
        "  # Verificar si la respuesta es correcto\n",
        "        if inte == n_obj:\n",
        "            print(\"Eso es, le atinaste al número {} en {} intentos.\".format(n_obj, inte))\n",
        "            break\n",
        "        elif inte < n_obj:\n",
        "            print(\"El número magico es mayor que {}\".format(inte))\n",
        "        else:\n",
        "            print(\"El número magico es menor que {}\".format(inte))\n",
        "\n",
        "# Llamar a la funcion\n",
        "adi_n()"
      ],
      "metadata": {
        "colab": {
          "base_uri": "https://localhost:8080/"
        },
        "id": "ajtktKHDXGjx",
        "outputId": "9ddfdd84-dbf5-4206-9d2b-7c52d8eedb36"
      },
      "execution_count": 12,
      "outputs": [
        {
          "output_type": "stream",
          "name": "stdout",
          "text": [
            "Saludos, este es el juego de adivinar el #\n",
            "Intenta adivinar un # (entre 1 y 100): 3\n",
            "El número magico es mayor que 4\n",
            "Intenta adivinar un # (entre 1 y 100): 10\n",
            "El número magico es mayor que 11\n",
            "Intenta adivinar un # (entre 1 y 100): 20\n",
            "El número magico es mayor que 21\n",
            "Intenta adivinar un # (entre 1 y 100): 30\n",
            "El número magico es mayor que 31\n",
            "Intenta adivinar un # (entre 1 y 100): 40\n",
            "El número magico es mayor que 41\n",
            "Intenta adivinar un # (entre 1 y 100): 50\n",
            "El número magico es mayor que 51\n",
            "Intenta adivinar un # (entre 1 y 100): 60\n",
            "El número magico es menor que 61\n",
            "Intenta adivinar un # (entre 1 y 100): 55\n",
            "El número magico es mayor que 56\n",
            "Intenta adivinar un # (entre 1 y 100): 57\n",
            "Eso es, le atinaste al número 58 en 58 intentos.\n"
          ]
        }
      ]
    },
    {
      "cell_type": "markdown",
      "source": [],
      "metadata": {
        "id": "EBtvEduxc5fO"
      }
    },
    {
      "cell_type": "code",
      "source": [
        "# Quinto programa\n",
        "\n",
        "def es_primo(n):\n",
        "    if n <= 1:\n",
        "        return False\n",
        "    for i in range(2, int(n**0.5) + 1):\n",
        "        if n % i == 0:\n",
        "            return False\n",
        "    return True\n",
        "\n",
        "def primos_rango(ini, fin):\n",
        "    primos = []\n",
        "    for num in range(ini, fin + 1):\n",
        "        if es_primo(num):\n",
        "            primos.append(num)\n",
        "    return primos\n",
        "\n",
        "# Pedir el rango de números\n",
        "ini = int(input(\"Inicio del rango: \"))\n",
        "fin = int(input(\"Fin del rango: \"))\n",
        "\n",
        "# Encontrar los #s primos en el rango\n",
        "primos = primos_rango(ini, fin)\n",
        "\n",
        "# Mostrar los números primos\n",
        "if primos:\n",
        "    print(\"Los Primos en el rango son [{} - {}]: {}\".format(ini, fin, primos))\n",
        "else:\n",
        "    print(\"Lo sentimos mucho, no hay primos en el rango[{} - {}]\".format(ini, fin))\n"
      ],
      "metadata": {
        "colab": {
          "base_uri": "https://localhost:8080/"
        },
        "id": "AnvReCqwdMZz",
        "outputId": "059dac9b-37c4-412f-8b1d-337438ca430c"
      },
      "execution_count": 15,
      "outputs": [
        {
          "output_type": "stream",
          "name": "stdout",
          "text": [
            "Inicio del rango: 2\n",
            "Fin del rango: 5\n",
            "Los Primos en el rango son [2 - 5]: [2, 3, 5]\n"
          ]
        }
      ]
    },
    {
      "cell_type": "code",
      "source": [
        "# Sexto programa\n",
        "\n",
        "def sum(a, b):\n",
        "    return a + b\n",
        "\n",
        "def rest(a, b):\n",
        "    return a - b\n",
        "\n",
        "def multi(a, b):\n",
        "    return a * b\n",
        "\n",
        "def divi(a, b):\n",
        "    if b != 0:\n",
        "        return a / b\n",
        "    else:\n",
        "        return \"Lo sentimos no se puede dividir entre cero\"\n",
        "\n",
        "# Solicitar al usuario dos números\n",
        "n1 = float(input(\"Coloca el primer #: \"))\n",
        "n2 = float(input(\"Coloca el segundo #: \"))\n",
        "\n",
        "# Menu de las operaciones que podemos hacer\n",
        "print(\"\\nSeleccione la operación:\")\n",
        "print(\"1. Suma\")\n",
        "print(\"2. Resta\")\n",
        "print(\"3. Multiplicación\")\n",
        "print(\"4. División\")\n",
        "\n",
        "# Se nos mostrara la operacion elegida\n",
        "o = int(input(\"Ingrese el # de la operación: \"))\n",
        "\n",
        "#  Se realiza la opcion deseada y nos muetra la respuesta\n",
        "if o == 1:\n",
        "    print(\"Result de la suma:\", sum(n1, n2))\n",
        "elif o == 2:\n",
        "    print(\"Result de la resta:\", rest(n1, n2))\n",
        "elif o == 3:\n",
        "    print(\"Result de la multiplicación:\", multi(n1, n2))\n",
        "elif o == 4:\n",
        "    print(\"Result de la división:\", divi(n1, n2))\n",
        "else:\n",
        "    print(\"No es posible esta opcion\")"
      ],
      "metadata": {
        "colab": {
          "base_uri": "https://localhost:8080/"
        },
        "id": "iBPbNrWhlrah",
        "outputId": "6dc82ae7-0554-44a1-b969-e48edf4efd93"
      },
      "execution_count": 16,
      "outputs": [
        {
          "output_type": "stream",
          "name": "stdout",
          "text": [
            "Coloca el primer #: 2\n",
            "Coloca el segundo #: 3\n",
            "\n",
            "Seleccione la operación:\n",
            "1. Suma\n",
            "2. Resta\n",
            "3. Multiplicación\n",
            "4. División\n",
            "Ingrese el # de la operación: 1\n",
            "Result de la suma: 5.0\n"
          ]
        }
      ]
    },
    {
      "cell_type": "markdown",
      "source": [],
      "metadata": {
        "id": "623jJmPsdUc4"
      }
    }
  ]
}